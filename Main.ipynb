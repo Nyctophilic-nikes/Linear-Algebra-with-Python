{
 "cells": [
  {
   "cell_type": "code",
   "execution_count": 2,
   "metadata": {},
   "outputs": [],
   "source": [
    "import numpy as np\n",
    "import matplotlib.pyplot as plt\n",
    "from scipy import stats"
   ]
  },
  {
   "cell_type": "code",
   "execution_count": 3,
   "metadata": {},
   "outputs": [],
   "source": [
    "plt.rcParams['figure.figsize'] = (10,10)\n",
    "plt.rcParams.update({'font.size': 22})"
   ]
  },
  {
   "cell_type": "markdown",
   "metadata": {},
   "source": [
    "Matrix"
   ]
  },
  {
   "cell_type": "code",
   "execution_count": 4,
   "metadata": {},
   "outputs": [
    {
     "name": "stdout",
     "output_type": "stream",
     "text": [
      "[[1 0 0]\n",
      " [0 1 0]]\n"
     ]
    }
   ],
   "source": [
    "x = np.array([[1,0,0],[0,1,0]])\n",
    "\n",
    "print(x)"
   ]
  },
  {
   "cell_type": "code",
   "execution_count": 9,
   "metadata": {},
   "outputs": [
    {
     "name": "stdout",
     "output_type": "stream",
     "text": [
      "rows =  2 \n",
      "cols =  3\n"
     ]
    }
   ],
   "source": [
    "row = x.shape[0]\n",
    "col = x.shape[1]\n",
    "\n",
    "print(\"rows = \", row , \"\\ncols = \", col)"
   ]
  },
  {
   "cell_type": "markdown",
   "metadata": {},
   "source": [
    "Basic Operations"
   ]
  },
  {
   "cell_type": "markdown",
   "metadata": {},
   "source": [
    "Matrix Addition"
   ]
  },
  {
   "cell_type": "code",
   "execution_count": 15,
   "metadata": {},
   "outputs": [
    {
     "name": "stdout",
     "output_type": "stream",
     "text": [
      "Matrix 1: \n",
      " [[1 5 3]\n",
      " [4 5 0]\n",
      " [4 8 9]] \n",
      "\n",
      " Matrix 2: \n",
      " [[3 1 3]\n",
      " [6 1 2]\n",
      " [9 8 9]]\n"
     ]
    }
   ],
   "source": [
    "matrix_1 = np.array([[1,5, 3],[4,5,0],[4,8,9]])\n",
    "matrix_2 = np.array([[3,1,3],[6,1,2],[9,8,9]])\n",
    "\n",
    "print(\"Matrix 1: \\n\", matrix_1, \"\\n\\n\", \"Matrix 2: \\n\", matrix_2)"
   ]
  },
  {
   "cell_type": "code",
   "execution_count": 19,
   "metadata": {},
   "outputs": [
    {
     "name": "stdout",
     "output_type": "stream",
     "text": [
      "Addition: \n",
      " [[ 4  6  6]\n",
      " [10  6  2]\n",
      " [13 16 18]]\n"
     ]
    }
   ],
   "source": [
    "add_ = matrix_1 + matrix_2\n",
    "print(\"Addition: \\n\", add_)"
   ]
  },
  {
   "cell_type": "code",
   "execution_count": 21,
   "metadata": {},
   "outputs": [
    {
     "name": "stdout",
     "output_type": "stream",
     "text": [
      "Cannot add matrices of different dimensions\n"
     ]
    }
   ],
   "source": [
    "matrix_3 = np.array([[1,5, 3],[4,5,0]])\n",
    "matrix_4 = np.array([[3,1,3],[6,1,2],[9,8,9]])\n",
    "\n",
    "try:\n",
    "    add_2 = matrix_3 + matrix_4\n",
    "    print(\"Addition: \\n\", add_2)\n",
    "except:\n",
    "    print(\"Cannot add matrices of different dimensions\")"
   ]
  },
  {
   "cell_type": "markdown",
   "metadata": {},
   "source": [
    "Commutative Property \n",
    "\n",
    "x+y=y+x"
   ]
  },
  {
   "cell_type": "code",
   "execution_count": null,
   "metadata": {},
   "outputs": [],
   "source": []
  }
 ],
 "metadata": {
  "kernelspec": {
   "display_name": "Python 3",
   "language": "python",
   "name": "python3"
  },
  "language_info": {
   "codemirror_mode": {
    "name": "ipython",
    "version": 3
   },
   "file_extension": ".py",
   "mimetype": "text/x-python",
   "name": "python",
   "nbconvert_exporter": "python",
   "pygments_lexer": "ipython3",
   "version": "3.11.4"
  }
 },
 "nbformat": 4,
 "nbformat_minor": 2
}
