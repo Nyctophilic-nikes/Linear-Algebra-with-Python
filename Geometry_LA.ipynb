{
 "cells": [
  {
   "cell_type": "code",
   "execution_count": 2,
   "metadata": {},
   "outputs": [],
   "source": [
    "import numpy as np\n",
    "import matplotlib.pyplot as plt\n",
    "from scipy import stats"
   ]
  },
  {
   "cell_type": "code",
   "execution_count": 4,
   "metadata": {},
   "outputs": [
    {
     "data": {
      "image/png": "[encoded data removed]",
      "text/plain": [
       "<Figure size 640x480 with 1 Axes>"
      ]
     },
     "metadata": {},
     "output_type": "display_data"
    }
   ],
   "source": [
    "lineSizePositive = 10\n",
    "lineSizeNegative = -2\n",
    "numberOfSampleOfLine = lineSizePositive * 2 + 1\n",
    "\n",
    "vectors = {\"StartingPointOfX\": 0, \"StartingPointOfY\": 0,\n",
    "           \"SizeOfXvector\": 2, \"StartingPointOfYvector\": -1,\n",
    "           \"VectorColor\": \"r\"}\n",
    "vectors2 = {\"StartingPointOfX\": 0, \"StartingPointOfY\": 0,\n",
    "            \"SizeOfXvector\": -1, \"StartingPointOfYvector\": 2,\n",
    "            \"VectorColor\": \"k\"}\n",
    "\n",
    "vectorList = [vectors, vectors2]\n",
    "\n",
    "\n",
    "def PlotVector(legend=True):\n",
    "    # Create a figure of size 8x6 inches, 80 dots per inch\n",
    "    fig = plt.figure(figsize=(8, 6), dpi=80)\n",
    "\n",
    "    # line size of each axes\n",
    "    line = np.linspace(lineSizeNegative, lineSizePositive, numberOfSampleOfLine, endpoint=True, dtype=\"int\")\n",
    "\n",
    "    # Set x limits, * 1.1 just express more space for drawing\n",
    "    plt.xlim(line.min() * 1.1, line.max() * 1.1)\n",
    "\n",
    "    # Set x ticks\n",
    "    plt.xticks(line)\n",
    "\n",
    "    # Set y limits, * 1.1 just express more space for drawing\n",
    "    plt.ylim(line.min() * 1.1, line.max() * 1.1)\n",
    "\n",
    "    # Set y ticks\n",
    "    plt.yticks(line)\n",
    "\n",
    "    # set label name of x axis\n",
    "    plt.xlabel(\"x axis\")\n",
    "\n",
    "    # set label name of y axis\n",
    "    plt.ylabel(\"y axis\")\n",
    "\n",
    "    # set grid of coordinate to True\n",
    "    plt.grid(linestyle=\"-\")\n",
    "\n",
    "    # Plot vectors\n",
    "    for vec in vectorList:\n",
    "        plt.quiver(vec[\"StartingPointOfX\"], vec[\"StartingPointOfY\"], vec[\"SizeOfXvector\"], vec[\"StartingPointOfYvector\"],\n",
    "                   angles=\"xy\", scale_units=\"xy\", scale=1, color=vec[\"VectorColor\"], label=f\"Vector {vec['VectorColor']}\")\n",
    "\n",
    "    # Plot legend\n",
    "    if legend:\n",
    "        plt.legend(loc=\"upper left\")\n",
    "    plt.show()\n",
    "\n",
    "\n",
    "PlotVector()\n"
   ]
  },
  {
   "cell_type": "code",
   "execution_count": 4,
   "metadata": {},
   "outputs": [
    {
     "ename": "TypeError",
     "evalue": "FigureBase.gca() got an unexpected keyword argument 'projection'",
     "output_type": "error",
     "traceback": [
      "\u001b[1;31m---------------------------------------------------------------------------\u001b[0m",
      "\u001b[1;31mTypeError\u001b[0m                                 Traceback (most recent call last)",
      "Cell \u001b[1;32mIn[4], line 7\u001b[0m\n\u001b[0;32m      3\u001b[0m \u001b[38;5;28;01mimport\u001b[39;00m \u001b[38;5;21;01mnumpy\u001b[39;00m \u001b[38;5;28;01mas\u001b[39;00m \u001b[38;5;21;01mnp\u001b[39;00m\n\u001b[0;32m      6\u001b[0m fig \u001b[38;5;241m=\u001b[39m plt\u001b[38;5;241m.\u001b[39mfigure()\n\u001b[1;32m----> 7\u001b[0m ax \u001b[38;5;241m=\u001b[39m \u001b[43mfig\u001b[49m\u001b[38;5;241;43m.\u001b[39;49m\u001b[43mgca\u001b[49m\u001b[43m(\u001b[49m\u001b[43mprojection\u001b[49m\u001b[38;5;241;43m=\u001b[39;49m\u001b[38;5;124;43m'\u001b[39;49m\u001b[38;5;124;43m3d\u001b[39;49m\u001b[38;5;124;43m'\u001b[39;49m\u001b[43m)\u001b[49m\n\u001b[0;32m     10\u001b[0m \u001b[38;5;66;03m#dibujar cubo\u001b[39;00m\n\u001b[0;32m     11\u001b[0m r \u001b[38;5;241m=\u001b[39m [\u001b[38;5;241m-\u001b[39m\u001b[38;5;241m1\u001b[39m, \u001b[38;5;241m1\u001b[39m]\n",
      "\u001b[1;31mTypeError\u001b[0m: FigureBase.gca() got an unexpected keyword argument 'projection'"
     ]
    },
    {
     "data": {
      "text/plain": [
       "<Figure size 640x480 with 0 Axes>"
      ]
     },
     "metadata": {},
     "output_type": "display_data"
    }
   ],
   "source": []
  },
  {
   "cell_type": "code",
   "execution_count": null,
   "metadata": {},
   "outputs": [],
   "source": []
  }
 ],
 "metadata": {
  "kernelspec": {
   "display_name": "Python 3",
   "language": "python",
   "name": "python3"
  },
  "language_info": {
   "codemirror_mode": {
    "name": "ipython",
    "version": 3
   },
   "file_extension": ".py",
   "mimetype": "text/x-python",
   "name": "python",
   "nbconvert_exporter": "python",
   "pygments_lexer": "ipython3",
   "version": "3.11.4"
  }
 },
 "nbformat": 4,
 "nbformat_minor": 2
}
