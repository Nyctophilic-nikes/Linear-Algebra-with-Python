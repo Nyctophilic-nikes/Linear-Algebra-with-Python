{
 "cells": [
  {
   "cell_type": "code",
   "execution_count": 34,
   "metadata": {},
   "outputs": [],
   "source": [
    "import numpy as np\n",
    "import matplotlib.pyplot as plt\n",
    "from scipy import stats"
   ]
  },
  {
   "cell_type": "code",
   "execution_count": 35,
   "metadata": {},
   "outputs": [],
   "source": [
    "plt.rcParams['figure.figsize'] = (10,10)\n",
    "plt.rcParams.update({'font.size': 12})"
   ]
  },
  {
   "cell_type": "markdown",
   "metadata": {},
   "source": [
    "Matrix"
   ]
  },
  {
   "cell_type": "code",
   "execution_count": 36,
   "metadata": {},
   "outputs": [
    {
     "name": "stdout",
     "output_type": "stream",
     "text": [
      "[[1 0 0]\n",
      " [0 1 0]]\n"
     ]
    }
   ],
   "source": [
    "x = np.array([[1,0,0],[0,1,0]])\n",
    "\n",
    "print(x)"
   ]
  },
  {
   "cell_type": "code",
   "execution_count": 37,
   "metadata": {},
   "outputs": [
    {
     "name": "stdout",
     "output_type": "stream",
     "text": [
      "rows =  2 \n",
      "cols =  3\n"
     ]
    }
   ],
   "source": [
    "row = x.shape[0]\n",
    "col = x.shape[1]\n",
    "\n",
    "print(\"rows = \", row , \"\\ncols = \", col)"
   ]
  },
  {
   "cell_type": "markdown",
   "metadata": {},
   "source": [
    "Basic Operations"
   ]
  },
  {
   "cell_type": "markdown",
   "metadata": {},
   "source": [
    "Matrix Addition"
   ]
  },
  {
   "cell_type": "code",
   "execution_count": 38,
   "metadata": {},
   "outputs": [
    {
     "name": "stdout",
     "output_type": "stream",
     "text": [
      "Matrix 1: \n",
      " [[1 5 3]\n",
      " [4 5 0]\n",
      " [4 8 9]] \n",
      "\n",
      " Matrix 2: \n",
      " [[3 1 3]\n",
      " [6 1 2]\n",
      " [9 8 9]]\n"
     ]
    }
   ],
   "source": [
    "matrix_1 = np.array([[1,5, 3],[4,5,0],[4,8,9]])\n",
    "matrix_2 = np.array([[3,1,3],[6,1,2],[9,8,9]])\n",
    "\n",
    "print(\"Matrix 1: \\n\", matrix_1, \"\\n\\n\", \"Matrix 2: \\n\", matrix_2)"
   ]
  },
  {
   "cell_type": "code",
   "execution_count": 39,
   "metadata": {},
   "outputs": [
    {
     "name": "stdout",
     "output_type": "stream",
     "text": [
      "Addition: \n",
      " [[ 4  6  6]\n",
      " [10  6  2]\n",
      " [13 16 18]]\n"
     ]
    }
   ],
   "source": [
    "add_ = matrix_1 + matrix_2\n",
    "print(\"Addition: \\n\", add_)"
   ]
  },
  {
   "cell_type": "code",
   "execution_count": 40,
   "metadata": {},
   "outputs": [
    {
     "name": "stdout",
     "output_type": "stream",
     "text": [
      "Cannot add matrices of different dimensions\n"
     ]
    }
   ],
   "source": [
    "matrix_3 = np.array([[1,5, 3],[4,5,0]])\n",
    "matrix_4 = np.array([[3,1,3],[6,1,2],[9,8,9]])\n",
    "\n",
    "try:\n",
    "    add_2 = matrix_3 + matrix_4\n",
    "    print(\"Addition: \\n\", add_2)\n",
    "except:\n",
    "    print(\"Cannot add matrices of different dimensions\")"
   ]
  },
  {
   "cell_type": "markdown",
   "metadata": {},
   "source": [
    "Commutative Property \n",
    "\n",
    "x+y=y+x"
   ]
  },
  {
   "cell_type": "code",
   "execution_count": 41,
   "metadata": {},
   "outputs": [
    {
     "name": "stdout",
     "output_type": "stream",
     "text": [
      "[[ True  True  True]\n",
      " [ True  True  True]\n",
      " [ True  True  True]]\n",
      "Addition is commutative\n"
     ]
    }
   ],
   "source": [
    "add_1 = matrix_1 + matrix_2\n",
    "add_2 = matrix_2 + matrix_1\n",
    "\n",
    "try:\n",
    "    print(add_1 == add_2)\n",
    "    print(\"Addition is commutative\")\n",
    "except:\n",
    "    print(\"Addition is not commutative\")"
   ]
  },
  {
   "cell_type": "markdown",
   "metadata": {},
   "source": [
    "Associative Property\n",
    "\n",
    "x+(y+z)=(x+y)+z"
   ]
  },
  {
   "cell_type": "code",
   "execution_count": 42,
   "metadata": {},
   "outputs": [
    {
     "name": "stdout",
     "output_type": "stream",
     "text": [
      "[[ True  True  True]\n",
      " [ True  True  True]\n",
      " [ True  True  True]]\n",
      "Addition is associative\n"
     ]
    }
   ],
   "source": [
    "x = matrix_1\n",
    "y = matrix_2\n",
    "z = matrix_4\n",
    "\n",
    "try:\n",
    "    add_3 = x + (y + z)\n",
    "    add_4 = (x + y) + z\n",
    "    print(add_3 == add_4)\n",
    "    print(\"Addition is associative\")\n",
    "except:\n",
    "    print(\"Addition is not associative\")"
   ]
  },
  {
   "cell_type": "markdown",
   "metadata": {},
   "source": [
    "Existence of Additive Identity\n",
    "\n",
    "x+0=x"
   ]
  },
  {
   "cell_type": "code",
   "execution_count": 43,
   "metadata": {},
   "outputs": [
    {
     "name": "stdout",
     "output_type": "stream",
     "text": [
      "[[ True  True  True]\n",
      " [ True  True  True]\n",
      " [ True  True  True]]\n",
      "Zero is the additive identity\n"
     ]
    }
   ],
   "source": [
    "x = matrix_1\n",
    "\n",
    "try:\n",
    "    add_5 = x + np.zeros(x.shape)\n",
    "    print(add_5 == x)\n",
    "    print(\"Zero is the additive identity\")\n",
    "except:\n",
    "    print(\"Zero is not the additive identity\")"
   ]
  },
  {
   "cell_type": "markdown",
   "metadata": {},
   "source": [
    " Existence of Additive Inverse\n",
    "\n",
    "x+(-x)=0"
   ]
  },
  {
   "cell_type": "code",
   "execution_count": 44,
   "metadata": {},
   "outputs": [
    {
     "name": "stdout",
     "output_type": "stream",
     "text": [
      "[[ True  True  True]\n",
      " [ True  True  True]\n",
      " [ True  True  True]]\n",
      "Additive inverse exists\n"
     ]
    }
   ],
   "source": [
    "x = matrix_1\n",
    "\n",
    "try:\n",
    "    add_6 = x + (-x)\n",
    "    print(add_6 == np.zeros(x.shape))\n",
    "    print(\"Additive inverse exists\")\n",
    "except:\n",
    "    print(\"Additive inverse does not exist\")"
   ]
  },
  {
   "cell_type": "markdown",
   "metadata": {},
   "source": [
    "Visualizing Vector Addition"
   ]
  },
  {
   "cell_type": "code",
   "execution_count": 45,
   "metadata": {},
   "outputs": [
    {
     "data": {
      "image/png": "[encoded data removed]",
      "text/plain": [
       "<Figure size 640x480 with 1 Axes>"
      ]
     },
     "metadata": {},
     "output_type": "display_data"
    }
   ],
   "source": [
    "lineSizePositive = 10\n",
    "lineSizeNegative = -2\n",
    "numberOfSampleOfLine = lineSizePositive * 2 + 1\n",
    "\n",
    "vectors = {\"StartingPointOfX\": 0, \"StartingPointOfY\": 0,\n",
    "           \"SizeOfXvector\": -1, \"StartingPointOfYvector\": 2,\n",
    "           \"VectorColor\": \"r\"}\n",
    "vectors2 = {\"StartingPointOfX\": 0, \"StartingPointOfY\": 0,\n",
    "            \"SizeOfXvector\": 2, \"StartingPointOfYvector\": 8,\n",
    "            \"VectorColor\": \"k\"}\n",
    "\n",
    "vectorList = [vectors, vectors2]\n",
    "\n",
    "\n",
    "def PlotVector(legend=True):\n",
    "    # Create a figure of size 8x6 inches, 80 dots per inch\n",
    "    fig = plt.figure(figsize=(8, 6), dpi=80)\n",
    "\n",
    "    # line size of each axes\n",
    "    line = np.linspace(lineSizeNegative, lineSizePositive, numberOfSampleOfLine, endpoint=True, dtype=\"int\")\n",
    "\n",
    "    # Set x limits, * 1.1 just express more space for drawing\n",
    "    plt.xlim(line.min() * 1.1, line.max() * 1.1)\n",
    "\n",
    "    # Set x ticks\n",
    "    plt.xticks(line)\n",
    "\n",
    "    # Set y limits, * 1.1 just express more space for drawing\n",
    "    plt.ylim(line.min() * 1.1, line.max() * 1.1)\n",
    "\n",
    "    # Set y ticks\n",
    "    plt.yticks(line)\n",
    "\n",
    "    # set label name of x axis\n",
    "    plt.xlabel(\"x axis\")\n",
    "\n",
    "    # set label name of y axis\n",
    "    plt.ylabel(\"y axis\")\n",
    "\n",
    "    # set grid of coordinate to True\n",
    "    plt.grid(linestyle=\"-\")\n",
    "\n",
    "    # Plot vectors\n",
    "    for vec in vectorList:\n",
    "        plt.quiver(vec[\"StartingPointOfX\"], vec[\"StartingPointOfY\"], vec[\"SizeOfXvector\"], vec[\"StartingPointOfYvector\"],\n",
    "                   angles=\"xy\", scale_units=\"xy\", scale=1, color=vec[\"VectorColor\"], label=f\"Vector {vec['VectorColor']}\")\n",
    "\n",
    "    # Calculate the sum of vectors\n",
    "    sum_vector = {\"StartingPointOfX\": 0, \"StartingPointOfY\": 0,\n",
    "                  \"SizeOfXvector\": vectors[\"SizeOfXvector\"] + vectors2[\"SizeOfXvector\"],\n",
    "                  \"StartingPointOfYvector\": vectors[\"StartingPointOfYvector\"] + vectors2[\"StartingPointOfYvector\"],\n",
    "                  \"VectorColor\": \"b\"}  # Assuming blue for the sum vector\n",
    "\n",
    "    # Plot the sum vector\n",
    "    plt.quiver(sum_vector[\"StartingPointOfX\"], sum_vector[\"StartingPointOfY\"],\n",
    "               sum_vector[\"SizeOfXvector\"], sum_vector[\"StartingPointOfYvector\"],\n",
    "               angles=\"xy\", scale_units=\"xy\", scale=1, color=sum_vector[\"VectorColor\"], label=\"Vector Sum\")\n",
    "\n",
    "    if legend:\n",
    "        plt.legend()\n",
    "\n",
    "    plt.show()\n",
    "\n",
    "\n",
    "PlotVector()\n"
   ]
  },
  {
   "cell_type": "code",
   "execution_count": 50,
   "metadata": {},
   "outputs": [
    {
     "data": {
      "image/png": "[encoded data removed]",
      "text/plain": [
       "<Figure size 200x200 with 1 Axes>"
      ]
     },
     "metadata": {},
     "output_type": "display_data"
    }
   ],
   "source": [
    "matrix_1 = np.array([[1,0,1],[0,1,0]])\n",
    "matrix_2 = np.array([[1,0,0],[0,1,0]])\n",
    "\n",
    "add_ = matrix_1 + matrix_2\n",
    "\n",
    "plt.figure(figsize=(2,2))\n",
    "plt.imshow(matrix_1, cmap='gray')\n",
    "plt.title(\"Matrix 1\")\n",
    "plt.show()"
   ]
  },
  {
   "cell_type": "code",
   "execution_count": 47,
   "metadata": {},
   "outputs": [
    {
     "data": {
      "image/png": "[encoded data removed]",
      "text/plain": [
       "<Figure size 200x200 with 1 Axes>"
      ]
     },
     "metadata": {},
     "output_type": "display_data"
    }
   ],
   "source": [
    "plt.figure(figsize=(2,2))\n",
    "plt.imshow(matrix_2, cmap='gray')\n",
    "plt.title(\"Matrix 2\")\n",
    "plt.show()"
   ]
  },
  {
   "cell_type": "code",
   "execution_count": 48,
   "metadata": {},
   "outputs": [
    {
     "data": {
      "image/png": "[encoded data removed]",
      "text/plain": [
       "<Figure size 200x200 with 1 Axes>"
      ]
     },
     "metadata": {},
     "output_type": "display_data"
    }
   ],
   "source": [
    "plt.figure(figsize=(2,2))\n",
    "plt.imshow(add_, cmap='gray')\n",
    "plt.title(\"Addition of Matrix 1 and Matrix 2\")\n",
    "plt.show()"
   ]
  },
  {
   "cell_type": "code",
   "execution_count": 66,
   "metadata": {},
   "outputs": [],
   "source": [
    "matrix_1 = np.array([[2,1,4],[3,1,2]])\n",
    "matrix_2 = np.array([[-1,0,0],[0,-1,0]])\n",
    "\n",
    "add_ = matrix_1 + matrix_2"
   ]
  },
  {
   "cell_type": "code",
   "execution_count": 67,
   "metadata": {},
   "outputs": [
    {
     "data": {
      "image/png": "[encoded data removed]",
      "text/plain": [
       "<Figure size 200x200 with 1 Axes>"
      ]
     },
     "metadata": {},
     "output_type": "display_data"
    }
   ],
   "source": [
    "# visualize the matrix using matplotlib differenct color map except gray\n",
    "plt.figure(figsize=(2,2))\n",
    "plt.imshow(matrix_1, cmap='Blues')\n",
    "plt.title(\"Matrix 1\")\n",
    "plt.show()"
   ]
  },
  {
   "cell_type": "code",
   "execution_count": 68,
   "metadata": {},
   "outputs": [
    {
     "data": {
      "image/png": "[encoded data removed]",
      "text/plain": [
       "<Figure size 200x200 with 1 Axes>"
      ]
     },
     "metadata": {},
     "output_type": "display_data"
    }
   ],
   "source": [
    "plt.figure(figsize=(2,2))\n",
    "plt.imshow(matrix_2, cmap='Blues')\n",
    "plt.title(\"Matrix 2\")\n",
    "plt.show()"
   ]
  },
  {
   "cell_type": "code",
   "execution_count": 69,
   "metadata": {},
   "outputs": [
    {
     "data": {
      "image/png": "[encoded data removed]",
      "text/plain": [
       "<Figure size 200x200 with 1 Axes>"
      ]
     },
     "metadata": {},
     "output_type": "display_data"
    }
   ],
   "source": [
    "plt.figure(figsize=(2,2))\n",
    "plt.imshow(add_, cmap='Blues')\n",
    "plt.title(\"Addition of Matrix 1 and Matrix 2\")\n",
    "plt.show()"
   ]
  },
  {
   "cell_type": "code",
   "execution_count": 70,
   "metadata": {},
   "outputs": [
    {
     "data": {
      "image/png": "[encoded data removed]",
      "text/plain": [
       "<Figure size 200x200 with 1 Axes>"
      ]
     },
     "metadata": {},
     "output_type": "display_data"
    }
   ],
   "source": [
    "sub_ = matrix_1 - matrix_2\n",
    "\n",
    "plt.figure(figsize=(2,2))\n",
    "plt.imshow(sub_, cmap='Blues')\n",
    "plt.title(\"Addition of Matrix 1 and Matrix 2\")\n",
    "plt.show()"
   ]
  },
  {
   "cell_type": "code",
   "execution_count": null,
   "metadata": {},
   "outputs": [],
   "source": []
  }
 ],
 "metadata": {
  "kernelspec": {
   "display_name": "Python 3",
   "language": "python",
   "name": "python3"
  },
  "language_info": {
   "codemirror_mode": {
    "name": "ipython",
    "version": 3
   },
   "file_extension": ".py",
   "mimetype": "text/x-python",
   "name": "python",
   "nbconvert_exporter": "python",
   "pygments_lexer": "ipython3",
   "version": "3.11.4"
  }
 },
 "nbformat": 4,
 "nbformat_minor": 2
}
